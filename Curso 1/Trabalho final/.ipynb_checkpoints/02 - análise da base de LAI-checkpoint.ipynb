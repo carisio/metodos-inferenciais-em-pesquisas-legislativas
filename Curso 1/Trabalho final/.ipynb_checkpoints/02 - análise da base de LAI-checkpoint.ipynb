{
 "cells": [
  {
   "cell_type": "markdown",
   "id": "a725c889",
   "metadata": {},
   "source": [
    "O intuito dessa análise é verificar os pedidos de LAI mês e mês e ver a proporção de recusas em cada mês. Com isso, pretendemos verificar se houve um aumento estatisticamente significativo do percentual de recusas mensal a partir da entrada em vigor da LGPD. Busca-se nessa análise verificar se houve um aumento sistêmico, em todo o Executivo Federal. Nesse momento não estamos interessados em verificar se há órgãos que fazem uso deliberado desse dispositivo.\n",
    "\n",
    "Inicialmente vamos abrir a base de dados e remover algumas colunas que não vamos precisar nessa análise. Vamos manter apenas a seguintes variáveis, que são suficientes para realizar a análise desejada: data_registro, assunto_pedido, sub_assunto_pedido, decisao, especificacao_decisao."
   ]
  },
  {
   "cell_type": "code",
   "execution_count": 18,
   "id": "46270336",
   "metadata": {},
   "outputs": [],
   "source": [
    "import pandas as pd\n",
    "\n",
    "# Carrega as base de dados...\n",
    "df_completa_cgu = pd.read_csv('./dados/base_completa_sem_pedido_e_resposta/pedidos_lai_metadados_2012_a_2022.csv', encoding='utf-16', sep=';')\n",
    "df_filtrada_cgu = pd.read_csv('./dados/base_filtrada_com_pedido_e_resposta/pedidos_lai_com_solicitacao_e_resposta_2015_a_2022.csv', encoding='utf-16', sep=';')\n",
    "\n",
    "# ... e filtra apenas as variáveis de interesse:\n",
    "variaveis_de_interesse = ['id_pedido', 'protocolo_pedido', 'data_registro', 'assunto_pedido', 'sub_assunto_pedido', 'decisao', 'especificacao_decisao']\n",
    "df_completa_cgu = df_completa_cgu[variaveis_de_interesse]\n",
    "df_filtrada_cgu = df_filtrada_cgu[variaveis_de_interesse]"
   ]
  },
  {
   "cell_type": "markdown",
   "id": "4747e6cc",
   "metadata": {},
   "source": [
    "Como estamos trabalhando com dois dataframes (um com a base completa e outro com a base filtrada), vamos também extrair um terceiro dataframe (df_dif) que contém a diferença entre eles:"
   ]
  },
  {
   "cell_type": "code",
   "execution_count": 28,
   "id": "da85833a",
   "metadata": {},
   "outputs": [],
   "source": [
    "# Para facilitar o merge, renomeia as variáveis\n",
    "df_completa_cgu.columns = ['id_pedido', 'protocolo_pedido_c', 'data_registro_c', 'assunto_pedido_c', 'sub_assunto_pedido_c', 'decisao_c', 'especificacao_decisao_c']\n",
    "df_filtrada_cgu.columns = ['id_pedido', 'protocolo_pedido_f', 'data_registro_f', 'assunto_pedido_f', 'sub_assunto_pedido_f', 'decisao_f', 'especificacao_decisao_f']\n",
    "\n",
    "# e faz o merge (outer join) na variável id_pedido\n",
    "df_merge = pd.merge(df_completa_cgu, df_filtrada_cgu, on='id_pedido', how='outer')\n",
    "\n",
    "# Agora vamos separar a diferença entre os dois dataframes:\n",
    "df_dif = df_merge[df_merge.protocolo_pedido_f.isnull()]\n",
    "\n",
    "# Esse dataframe tem apenas o conteúdo do completo que não tem na base filtrada.\n",
    "# Então remove os dados referentes as variáveis filtradas (são todas nulas).\n",
    "# Só pra checar:\n",
    "sum(df_dif.protocolo_pedido_f.isnull()) - len(df_dif) # é igual a 0\n",
    "df_dif = df_dif[['id_pedido', 'protocolo_pedido_c', 'data_registro_c', 'assunto_pedido_c', 'sub_assunto_pedido_c', 'decisao_c', 'especificacao_decisao_c']]\n",
    "\n",
    "# E pra manter o padrão, renomeia as colunas de volta:\n",
    "df_dif.columns = ['id_pedido', 'protocolo_pedido', 'data_registro', 'assunto_pedido', 'sub_assunto_pedido', 'decisao', 'especificacao_decisao']\n",
    "\n",
    "# E renomeia novamente as colunas dos dataframes originais:\n",
    "df_completa_cgu.columns = ['id_pedido', 'protocolo_pedido', 'data_registro', 'assunto_pedido', 'sub_assunto_pedido', 'decisao', 'especificacao_decisao']\n",
    "df_filtrada_cgu.columns = ['id_pedido', 'protocolo_pedido', 'data_registro', 'assunto_pedido', 'sub_assunto_pedido', 'decisao', 'especificacao_decisao']"
   ]
  },
  {
   "cell_type": "markdown",
   "id": "7c969bba",
   "metadata": {},
   "source": [
    "Com as variáveis filtradas, vamos agora ajustar a coluna data. Ao abrir o arquivo, a data fica no formato string. Para trabalhar com datas vamos converter essas variáveis para o formato datetime."
   ]
  },
  {
   "cell_type": "code",
   "execution_count": 29,
   "id": "109b7e96",
   "metadata": {},
   "outputs": [],
   "source": [
    "def converte_variavel_para_datetime(df, col):\n",
    "    df[col] = pd.to_datetime(df[col], format='%d/%m/%Y')\n",
    "    return df\n",
    "\n",
    "df_completa_cgu = converte_variavel_para_datetime(df_completa_cgu, 'data_registro')\n",
    "df_filtrada_cgu = converte_variavel_para_datetime(df_filtrada_cgu, 'data_registro')\n",
    "df_dif = converte_variavel_para_datetime(df_dif, 'data_registro')"
   ]
  },
  {
   "cell_type": "markdown",
   "id": "5578b6bb",
   "metadata": {},
   "source": [
    "Só para teste, vamos considerar todas as bases a partir de 2016. Todas tem registro a partir de 2016:"
   ]
  },
  {
   "cell_type": "code",
   "execution_count": null,
   "id": "78e8502c",
   "metadata": {},
   "outputs": [],
   "source": [
    "def remove_registros_antes(df, ano):\n",
    "    return df[df.data_registro.dt.year >= ano]\n",
    "\n",
    "df_completa_cgu = remove_registro_antes(df_completa_cgu, 2016)\n",
    "df_filtrada_cgu = remove_registro_antes(df_filtrada_cgu, 2016)\n",
    "df_dif = remove_registro_antes(df_dif, 2016)"
   ]
  },
  {
   "cell_type": "markdown",
   "id": "fbe81b43",
   "metadata": {},
   "source": [
    "Vamos checar agora quais são os assuntos tratados por essas bases:"
   ]
  },
  {
   "cell_type": "code",
   "execution_count": 30,
   "id": "1cbba8c1",
   "metadata": {},
   "outputs": [
    {
     "name": "stdout",
     "output_type": "stream",
     "text": [
      "Base completa \n",
      " Abastecimento\n",
      "Abono salarial\n",
      "Acesso à informação\n",
      "Acreditação de Organismos e Laboratórios\n",
      "Aduana\n",
      "Aeronáutica\n",
      "Agendamento\n",
      "Agendamento de Consultas\n",
      "Agente Público\n",
      "Agradecimento aos profissionais da Saúde\n",
      "Agricultura\n",
      "Alimentação Animal\n",
      "Animais\n",
      "Aposentadoria\n",
      "Armamento\n",
      "Assentamento\n",
      "Assistência Hospitalar e Ambulatorial\n",
      "Assistência Judiciária\n",
      "Assistência Social\n",
      "Assistência ao Idoso\n",
      "Assistência ao Portador de Deficiência\n",
      "Assistência à Criança e ao Adolescente\n",
      "Assédio moral\n",
      "Assédio sexual\n",
      "Atendimento\n",
      "Atendimento Básico\n",
      "Auditoria\n",
      "Auxílio\n",
      "Avaliação da Conformidade\n",
      "Bancos \n",
      "Benefício\n",
      "Benefícios Sociais\n",
      "Bibliotecas\n",
      "Biodiversidade\n",
      "Bolsas\n",
      "Cadastro\n",
      "Cadastro Único\n",
      "Certidões e Declarações\n",
      "Certificado ou Diploma\n",
      "Cidadania\n",
      "Cinema\n",
      "Cirurgia\n",
      "Clima\n",
      "Combate a Epidemias\n",
      "Combate a pobreza\n",
      "Combate à desigualdade\n",
      "Comercio externo\n",
      "Compras governamentais\n",
      "Comunicações Postais\n",
      "Concurso\n",
      "Conduta Docente\n",
      "Conduta Ética\n",
      "Conteúdo jornalístico\n",
      "Controle social\n",
      "Convênio\n",
      "Cooperação Internacional\n",
      "Coronavírus (COVID-19)\n",
      "Correios\n",
      "Correição\n",
      "Corrupção\n",
      "Cotas\n",
      "Curso Técnico\n",
      "Dados Pessoais - LGPD\n",
      "Defesa Civil\n",
      "Defesa Militar\n",
      "Defesa da concorrência\n",
      "Defesa do Consumidor\n",
      "Defesa e vigilância sanitária\n",
      "Denúncia Crime\n",
      "Denúncia de irregularidades de servidores\n",
      "Difusão\n",
      "Difusão Cultural\n",
      "Direitos Humanos\n",
      "Educação Básica\n",
      "Educação Profissionalizante\n",
      "Educação Superior\n",
      "Empregabilidade\n",
      "Emprego\n",
      "Energia Elétrica\n",
      "Ensino Médio\n",
      "Esporte Comunitário\n",
      "Esporte Profissional\n",
      "Exame Nacional do Ensino Médio - Enem\n",
      "Exército\n",
      "FIES\n",
      "Fale com o Presidente\n",
      "Fiscalização do Estado\n",
      "Fomento ao Trabalho\n",
      "Fraude em auxílio emergencial - coronavírus\n",
      "Frequência de Servidores\n",
      "Habitação Rural\n",
      "Habitação Urbana\n",
      "Hospitais Universitários\n",
      "Infraestrutura Urbana\n",
      "Infraestrutura e Fomento\n",
      "Lazer\n",
      "Legislação\n",
      "Licitações\n",
      "MEI - Microempreendedor Individual\n",
      "Marinha\n",
      "Matrículas\n",
      "Medicamentos e Aparelhos\n",
      "Metrologia Legal\n",
      "Mineração\n",
      "Multa\n",
      "Normas e Fiscalização\n",
      "Operações CGU\n",
      "Operações de dívida pública\n",
      "Orçamento\n",
      "Outros em Administração\n",
      "Outros em Agropecuária\n",
      "Outros em Comunicações\n",
      "Outros em Comércio e serviços\n",
      "Outros em Cultura\n",
      "Outros em Defesa Nacional\n",
      "Outros em Economia e Finanças\n",
      "Outros em Educação\n",
      "Outros em Energia\n",
      "Outros em Esporte e Lazer\n",
      "Outros em Habitação\n",
      "Outros em Industria\n",
      "Outros em Meio Ambiente\n",
      "Outros em Pesquisa e Desenvolvimento\n",
      "Outros em Previdência\n",
      "Outros em Proteção Social\n",
      "Outros em Relações Internacionais\n",
      "Outros em Saneamento\n",
      "Outros em Saúde\n",
      "Outros em Segurança e Ordem Pública\n",
      "Outros em Trabalho\n",
      "Outros em Transporte\n",
      "Outros em Urbanismo\n",
      "Ouvidoria\n",
      "Ouvidoria Interna\n",
      "PROUNI - Programa Universidade para Todos\n",
      "Passaporte\n",
      "Patrimônio\n",
      "Patrimônio Cultural\n",
      "Pesca Amadora\n",
      "Pesca e Aquicultura\n",
      "Petróleo, Gás e Biocombustíveis (Combustíveis)\n",
      "Planejamento e Gestão\n",
      "Policiamento\n",
      "Política Econômica\n",
      "Preservação e Conservação Ambiental\n",
      "Previdência Básica\n",
      "Previdência Complementar\n",
      "Processo Seletivo\n",
      "Produto de Origem Animal\n",
      "Produção Agropecuária\n",
      "Produção Industrial\n",
      "Programa Auxílio Brasil\n",
      "Programa Bolsa Família\n",
      "Propriedade Industrial\n",
      "Proteção e Benefícios ao Trabalhador\n",
      "Receita Federal\n",
      "Recursos Humanos\n",
      "Rede Brasileira de Metrologia e Qualidade Inmetro (RBMLQ-I)\n",
      "Relações Diplomáticas\n",
      "Relações de Trabalho\n",
      "SISU - Sistema de Seleção Unificada\n",
      "Saneamento Básico Rural\n",
      "Saneamento Básico Urbano\n",
      "Saúde Suplementar\n",
      "Seguro\n",
      "Serviços Públicos\n",
      "Serviços Urbanos\n",
      "Serviços e Sistemas\n",
      "Sistema Financeiro\n",
      "Sistema Penitenciário\n",
      "Site do Órgão\n",
      "Telecomunicações\n",
      "Transparência\n",
      "Transparência ativa\n",
      "Transporte Aéreo\n",
      "Transporte Ferroviário\n",
      "Transporte Hidroviário\n",
      "Transporte Rodoviário\n",
      "Tributos\n",
      "Trânsito\n",
      "Turismo\n",
      "Universidades e Institutos\n",
      " Coronavírus (COVID-19)\n",
      "Água\n",
      "----------------------\n",
      "\n",
      "Base filtrada \n",
      " Abastecimento\n",
      "Abono salarial\n",
      "Acesso à informação\n",
      "Acreditação de Organismos e Laboratórios\n",
      "Aduana\n",
      "Aeronáutica\n",
      "Agendamento\n",
      "Agendamento de Consultas\n",
      "Agente Público\n",
      "Agradecimento aos profissionais da Saúde\n",
      "Agricultura\n",
      "Alimentação Animal\n",
      "Animais\n",
      "Aposentadoria\n",
      "Armamento\n",
      "Assentamento\n",
      "Assistência Hospitalar e Ambulatorial\n",
      "Assistência Judiciária\n",
      "Assistência Social\n",
      "Assistência ao Idoso\n",
      "Assistência ao Portador de Deficiência\n",
      "Assistência à Criança e ao Adolescente\n",
      "Assédio moral\n",
      "Assédio sexual\n",
      "Atendimento\n",
      "Atendimento Básico\n",
      "Auditoria\n",
      "Auxílio\n",
      "Avaliação da Conformidade\n",
      "Bancos \n",
      "Benefício\n",
      "Benefícios Sociais\n",
      "Bibliotecas\n",
      "Biodiversidade\n",
      "Bolsas\n",
      "Cadastro\n",
      "Cadastro Único\n",
      "Certidões e Declarações\n",
      "Certificado ou Diploma\n",
      "Cidadania\n",
      "Cinema\n",
      "Cirurgia\n",
      "Clima\n",
      "Combate a Epidemias\n",
      "Combate a pobreza\n",
      "Combate à desigualdade\n",
      "Comercio externo\n",
      "Compras governamentais\n",
      "Comunicações Postais\n",
      "Concurso\n",
      "Conduta Docente\n",
      "Conduta Ética\n",
      "Conteúdo jornalístico\n",
      "Controle social\n",
      "Convênio\n",
      "Cooperação Internacional\n",
      "Coronavírus (COVID-19)\n",
      "Correios\n",
      "Correição\n",
      "Corrupção\n",
      "Cotas\n",
      "Curso Técnico\n",
      "Dados Pessoais - LGPD\n",
      "Defesa Civil\n",
      "Defesa Militar\n",
      "Defesa da concorrência\n",
      "Defesa do Consumidor\n",
      "Defesa e vigilância sanitária\n",
      "Denúncia Crime\n",
      "Denúncia de irregularidades de servidores\n",
      "Difusão\n",
      "Difusão Cultural\n",
      "Direitos Humanos\n",
      "Educação Básica\n",
      "Educação Profissionalizante\n",
      "Educação Superior\n",
      "Empregabilidade\n",
      "Emprego\n",
      "Energia Elétrica\n",
      "Ensino Médio\n",
      "Esporte Comunitário\n",
      "Esporte Profissional\n",
      "Exame Nacional do Ensino Médio - Enem\n",
      "Exército\n",
      "FIES\n",
      "Fale com o Presidente\n",
      "Fiscalização do Estado\n",
      "Fomento ao Trabalho\n",
      "Fraude em auxílio emergencial - coronavírus\n",
      "Frequência de Servidores\n",
      "Habitação Rural\n",
      "Habitação Urbana\n",
      "Hospitais Universitários\n",
      "Infraestrutura Urbana\n",
      "Infraestrutura e Fomento\n",
      "Lazer\n",
      "Legislação\n",
      "Licitações\n",
      "MEI - Microempreendedor Individual\n",
      "Marinha\n",
      "Matrículas\n",
      "Medicamentos e Aparelhos\n",
      "Metrologia Legal\n",
      "Mineração\n",
      "Multa\n",
      "Normas e Fiscalização\n",
      "Operações CGU\n",
      "Operações de dívida pública\n",
      "Orçamento\n",
      "Outros em Administração\n",
      "Outros em Agropecuária\n",
      "Outros em Comunicações\n",
      "Outros em Comércio e serviços\n",
      "Outros em Cultura\n",
      "Outros em Defesa Nacional\n",
      "Outros em Economia e Finanças\n",
      "Outros em Educação\n",
      "Outros em Energia\n",
      "Outros em Esporte e Lazer\n",
      "Outros em Habitação\n",
      "Outros em Industria\n",
      "Outros em Meio Ambiente\n",
      "Outros em Pesquisa e Desenvolvimento\n",
      "Outros em Previdência\n",
      "Outros em Proteção Social\n",
      "Outros em Relações Internacionais\n",
      "Outros em Saneamento\n",
      "Outros em Saúde\n",
      "Outros em Segurança e Ordem Pública\n",
      "Outros em Trabalho\n",
      "Outros em Transporte\n",
      "Outros em Urbanismo\n",
      "Ouvidoria\n",
      "Ouvidoria Interna\n",
      "PROUNI - Programa Universidade para Todos\n",
      "Passaporte\n",
      "Patrimônio\n",
      "Patrimônio Cultural\n",
      "Pesca Amadora\n",
      "Pesca e Aquicultura\n",
      "Petróleo, Gás e Biocombustíveis (Combustíveis)\n",
      "Planejamento e Gestão\n",
      "Policiamento\n",
      "Política Econômica\n",
      "Preservação e Conservação Ambiental\n",
      "Previdência Básica\n",
      "Previdência Complementar\n",
      "Processo Seletivo\n",
      "Produto de Origem Animal\n",
      "Produção Agropecuária\n",
      "Produção Industrial\n",
      "Programa Auxílio Brasil\n",
      "Programa Bolsa Família\n",
      "Propriedade Industrial\n",
      "Proteção e Benefícios ao Trabalhador\n",
      "Receita Federal\n",
      "Recursos Humanos\n",
      "Rede Brasileira de Metrologia e Qualidade Inmetro (RBMLQ-I)\n",
      "Relações Diplomáticas\n",
      "Relações de Trabalho\n",
      "SISU - Sistema de Seleção Unificada\n",
      "Saneamento Básico Rural\n",
      "Saneamento Básico Urbano\n",
      "Saúde Suplementar\n",
      "Seguro\n",
      "Serviços Públicos\n",
      "Serviços Urbanos\n",
      "Serviços e Sistemas\n",
      "Sistema Financeiro\n",
      "Sistema Penitenciário\n",
      "Site do Órgão\n",
      "Telecomunicações\n",
      "Transparência\n",
      "Transparência ativa\n",
      "Transporte Aéreo\n",
      "Transporte Ferroviário\n",
      "Transporte Hidroviário\n",
      "Transporte Rodoviário\n",
      "Tributos\n",
      "Trânsito\n",
      "Turismo\n",
      "Universidades e Institutos\n",
      " Coronavírus (COVID-19)\n",
      "Água\n",
      "----------------------\n",
      "\n",
      "Diff \n",
      " \n",
      "----------------------\n",
      "\n"
     ]
    }
   ],
   "source": [
    "def print_unique_variavel(df, variavel, label):\n",
    "    assuntos = df[variavel].unique()\n",
    "    assuntos.sort()\n",
    "    \n",
    "    print(label, '\\n', \"\\n\".join(assuntos))\n",
    "    print('----------------------\\n')\n",
    "    \n",
    "print_unique_variavel(df_completa_cgu, 'assunto_pedido', 'Base completa')\n",
    "print_unique_variavel(df_filtrada_cgu, 'assunto_pedido', 'Base filtrada')\n",
    "print_unique_variavel(df_dif, 'assunto_pedido', 'Diff')"
   ]
  },
  {
   "cell_type": "markdown",
   "id": "ea75b91f",
   "metadata": {},
   "source": [
    "Vamos remover da nossa base de dados todas as solicitações cujo assunto é \"Dados Pessoais - LGPD\". Isso é necessário pois estamos verificando a \"cartada da LGPD\" nas solicitações de LAI.\n",
    "\n",
    "Removendo:"
   ]
  },
  {
   "cell_type": "code",
   "execution_count": 31,
   "id": "2b4e4540",
   "metadata": {},
   "outputs": [
    {
     "name": "stdout",
     "output_type": "stream",
     "text": [
      "Foram removidos 1415 registros\n",
      "Foram removidos 1415 registros\n",
      "Foram removidos 0 registros\n"
     ]
    }
   ],
   "source": [
    "def remove_assunto_do_df(df, assunto):\n",
    "    tam_antes = len(df)\n",
    "    df = df[df.assunto_pedido != assunto]\n",
    "    tam_depois = len(df)\n",
    "    print(f'Foram removidos {tam_antes - tam_depois} registros')\n",
    "    return df\n",
    "\n",
    "df_completa_cgu = remove_assunto_do_df(df_completa_cgu, \"Dados Pessoais - LGPD\")\n",
    "df_filtrada_cgu = remove_assunto_do_df(df_filtrada_cgu, \"Dados Pessoais - LGPD\")\n",
    "df_dif = remove_assunto_do_df(df_dif, \"Dados Pessoais - LGPD\")"
   ]
  },
  {
   "cell_type": "markdown",
   "id": "e68a48b5",
   "metadata": {},
   "source": [
    "Vamos verificar agora os tipos de decisões que essas solicitações tiveram:"
   ]
  },
  {
   "cell_type": "code",
   "execution_count": 32,
   "id": "d0c1d216",
   "metadata": {},
   "outputs": [
    {
     "name": "stdout",
     "output_type": "stream",
     "text": [
      "Base completa \n",
      " Acesso Concedido\n",
      "Acesso Negado\n",
      "Acesso Parcialmente Concedido\n",
      "Informação Inexistente\n",
      "Não se trata de solicitação de informação\n",
      "Pergunta Duplicada/Repetida\n",
      "Órgão não tem competência para responder sobre o assunto\n",
      "----------------------\n",
      "\n",
      "Base filtrada \n",
      "  \n",
      "Acesso Concedido\n",
      "Acesso Negado\n",
      "Acesso Parcialmente Concedido\n",
      "Informação Inexistente\n",
      "Não se trata de solicitação de informação\n",
      "Pergunta Duplicada/Repetida\n",
      "Órgão não tem competência para responder sobre o assunto\n",
      "----------------------\n",
      "\n",
      "Diff \n",
      " \n",
      "----------------------\n",
      "\n"
     ]
    }
   ],
   "source": [
    "print_unique_variavel(df_completa_cgu, 'decisao', 'Base completa')\n",
    "print_unique_variavel(df_filtrada_cgu, 'decisao', 'Base filtrada')\n",
    "print_unique_variavel(df_dif, 'decisao', 'Diff')"
   ]
  },
  {
   "cell_type": "markdown",
   "id": "ddf8aa85",
   "metadata": {},
   "source": [
    "Como podemos perceber, há solicitações que devem ser removidas da análise, visto que não há informação de acesso. Por isso, vamos manter apenas as solicitações cujo acesso foi concedido/parcialmente concedido/negado."
   ]
  },
  {
   "cell_type": "code",
   "execution_count": 33,
   "id": "918d3222",
   "metadata": {},
   "outputs": [
    {
     "name": "stdout",
     "output_type": "stream",
     "text": [
      "Foram removidos 115707 registros\n",
      "Foram removidos 115707 registros\n",
      "Foram removidos 0 registros\n"
     ]
    }
   ],
   "source": [
    "def remove_solicitacoes_sem_info_acesso(df):\n",
    "    tam_antes = len(df)\n",
    "    df = df[df.decisao.str.startswith('Acesso')]\n",
    "    tam_depois = len(df)\n",
    "    print(f'Foram removidos {tam_antes - tam_depois} registros')\n",
    "    return df\n",
    "\n",
    "df_completa_cgu = remove_solicitacoes_sem_info_acesso(df_completa_cgu)\n",
    "df_filtrada_cgu = remove_solicitacoes_sem_info_acesso(df_filtrada_cgu)\n",
    "df_dif = remove_solicitacoes_sem_info_acesso(df_dif)"
   ]
  },
  {
   "cell_type": "markdown",
   "id": "dcb2a483",
   "metadata": {},
   "source": [
    "Temos agora três tipos de informação: \"Acesso Concedido\", \"Acesso Negado\" e \"Acesso Parcialmente Concedido\". Como nesta análise queremos observar o efeito de decisões negadas com o tempo, vamos agrupar em apenas dois tipos: \"Acesso Concedido\" e \"Acesso Negado ou Parcialmente Negado\":"
   ]
  },
  {
   "cell_type": "code",
   "execution_count": 34,
   "id": "2ca07a1c",
   "metadata": {},
   "outputs": [],
   "source": [
    "def normaliza_decisao(df):\n",
    "    df['decisao_normalizada'] = df.decisao.apply(lambda decisao : 'Acesso Concedido' if decisao == 'Acesso Concedido' else 'Acesso Negado ou Parcialmente Negado')\n",
    "    return df\n",
    "    \n",
    "df_completa_cgu = normaliza_decisao(df_completa_cgu)\n",
    "df_filtrada_cgu = normaliza_decisao(df_filtrada_cgu)\n",
    "df_dif = normaliza_decisao(df_dif)"
   ]
  },
  {
   "cell_type": "markdown",
   "id": "8380ef91",
   "metadata": {},
   "source": [
    "Feito isso, agora podemos agrupar mês a mês as decisões e calcular o percentual de cada tipo:"
   ]
  },
  {
   "cell_type": "code",
   "execution_count": 35,
   "id": "2feb4128",
   "metadata": {},
   "outputs": [],
   "source": [
    "def calcula_percentual_mensal_tipo_decisao(df):\n",
    "    # Agrupa por ano e mês e calcula o percentual de cada tipo de decisão\n",
    "    percentual_por_mes = df.groupby([df.data_registro.dt.year, df.data_registro.dt.month]).decisao_normalizada.value_counts(normalize=True)*100\n",
    "    \n",
    "    # Altera o nome dos índices para representar corretamente o ano/mês\n",
    "    percentual_por_mes.index.names = ['ano', 'mes', 'decisao_normalizada']\n",
    "    \n",
    "    # Alera o nome da série\n",
    "    percentual_por_mes.name = 'percentual'\n",
    "\n",
    "    # Planifica o índice para voltar a criar um dataframe\n",
    "    df_percentual_mes = percentual_por_mes.reset_index()\n",
    "    \n",
    "    return df_percentual_mes\n",
    "\n",
    "df_completa_perc_mensal = calcula_percentual_mensal_tipo_decisao(df_completa_cgu)\n",
    "df_filtrada_perc_mensal = calcula_percentual_mensal_tipo_decisao(df_filtrada_cgu)\n",
    "df_dif_perc_mensal = calcula_percentual_mensal_tipo_decisao(df_dif)"
   ]
  },
  {
   "cell_type": "markdown",
   "id": "1bb1272b",
   "metadata": {},
   "source": [
    "Agora podemos exportar esses dados para um csv:"
   ]
  },
  {
   "cell_type": "code",
   "execution_count": 36,
   "id": "a5d546b3",
   "metadata": {},
   "outputs": [],
   "source": [
    "df_completa_perc_mensal.to_csv('./dados/base_completa.csv', encoding='utf-16', sep=';', index=False)\n",
    "df_filtrada_perc_mensal.to_csv('./dados/base_filtrada.csv', encoding='utf-16', sep=';', index=False)\n",
    "df_dif_perc_mensal.to_csv('./dados/dif.csv', encoding='utf-16', sep=';', index=False)"
   ]
  },
  {
   "cell_type": "markdown",
   "id": "277a0d27",
   "metadata": {},
   "source": [
    "Vamos agora separar as bases de dados em antes e depois de um mês de corte. Para isso vamos definir a função split_df e simplestemente retornar 2 DF, um df_antes e um df_depois. O primeiro inclui todos os dados até o mês/ano passado como parâmetro (não inclusivo). O segundo incluir todos os dados a partir do mês/ano passado como parâmetro (inclusivo):"
   ]
  },
  {
   "cell_type": "code",
   "execution_count": 37,
   "id": "2a3e93e9",
   "metadata": {},
   "outputs": [],
   "source": [
    "def split_df(df, mes, ano):\n",
    "    idxAntes = (df.ano < ano) | ( (df.ano == ano) & (df.mes < mes) )\n",
    "    idxDepois = ~idxAntes\n",
    "\n",
    "    return df[idxAntes], df[idxDepois]"
   ]
  },
  {
   "cell_type": "markdown",
   "id": "80998b8d",
   "metadata": {},
   "source": [
    "A LGPD foi publicada dia 14 de agosto de 2018 e entrou completamente em vigor 2 anos após esta data. Assim, como nossa periodicidade aqui é mensal (mês completo), vamos considerar o antes como os dados anteriores a setembro/2020. E, o depois, como os dados após (incluindo) setembro de 2020.\n",
    "\n",
    "Além disso, vamos considerar apenas os resultados cuja decisao_normalizada é \"Acesso Negado ou Parcialmente Negado\" (na verdade, tanto faz usar esse valor ou o valor de \"Acesso Concedido\", pois o resultado é o mesmo acrescido de uma constante)."
   ]
  },
  {
   "cell_type": "code",
   "execution_count": 38,
   "id": "28cededc",
   "metadata": {},
   "outputs": [],
   "source": [
    "def remove_solicitacoes_com_acesso_concedido(df):\n",
    "    return df[df.decisao_normalizada == 'Acesso Negado ou Parcialmente Negado']    \n",
    "\n",
    "\n",
    "df_completa_perc_mensal = remove_solicitacoes_com_acesso_concedido(df_completa_perc_mensal)\n",
    "df_filtrada_perc_mensal = remove_solicitacoes_com_acesso_concedido(df_filtrada_perc_mensal)\n",
    "df_dif_perc_mensal = remove_solicitacoes_com_acesso_concedido(df_dif_perc_mensal)\n",
    "\n",
    "df_completa_antes, df_completa_depois = split_df(df_completa_perc_mensal, 9, 2020)\n",
    "df_filtrada_antes, df_filtrada_depois = split_df(df_filtrada_perc_mensal, 9, 2020)\n",
    "df_dif_antes, df_dif_depois = split_df(df_dif_perc_mensal, 9, 2020)\n"
   ]
  },
  {
   "cell_type": "markdown",
   "id": "c10870e6",
   "metadata": {},
   "source": [
    "Vamos rodar o teste de normalidade Shapiro-Wilk nessas bases.\n",
    "\n",
    "A conclusão aqui é que não há evidência suficiente para dizer que os dados não vieram de uma distribuição normal (p-valor < 5% rejeita o H0)."
   ]
  },
  {
   "cell_type": "code",
   "execution_count": 39,
   "id": "49be6ebe",
   "metadata": {},
   "outputs": [
    {
     "name": "stdout",
     "output_type": "stream",
     "text": [
      "Resultados da base completa:\n",
      "ShapiroResult(statistic=0.987977147102356, pvalue=0.7594841718673706)\n",
      "ShapiroResult(statistic=0.9372945427894592, pvalue=0.17400169372558594)\n",
      "\n",
      "Resultados da base filtrada:\n",
      "ShapiroResult(statistic=0.987974226474762, pvalue=0.7593201398849487)\n",
      "ShapiroResult(statistic=0.9382930994033813, pvalue=0.18248923122882843)\n",
      "\n",
      "Resultados da base dif:\n"
     ]
    },
    {
     "ename": "ValueError",
     "evalue": "Data must be at least length 3.",
     "output_type": "error",
     "traceback": [
      "\u001b[1;31m---------------------------------------------------------------------------\u001b[0m",
      "\u001b[1;31mValueError\u001b[0m                                Traceback (most recent call last)",
      "Input \u001b[1;32mIn [39]\u001b[0m, in \u001b[0;36m<cell line: 12>\u001b[1;34m()\u001b[0m\n\u001b[0;32m      9\u001b[0m \u001b[38;5;28mprint\u001b[39m(shapiro(df_filtrada_depois\u001b[38;5;241m.\u001b[39mpercentual))\n\u001b[0;32m     11\u001b[0m \u001b[38;5;28mprint\u001b[39m(\u001b[38;5;124m'\u001b[39m\u001b[38;5;130;01m\\n\u001b[39;00m\u001b[38;5;124mResultados da base dif:\u001b[39m\u001b[38;5;124m'\u001b[39m)\n\u001b[1;32m---> 12\u001b[0m \u001b[38;5;28mprint\u001b[39m(\u001b[43mshapiro\u001b[49m\u001b[43m(\u001b[49m\u001b[43mdf_dif_antes\u001b[49m\u001b[38;5;241;43m.\u001b[39;49m\u001b[43mpercentual\u001b[49m\u001b[43m)\u001b[49m)\n\u001b[0;32m     13\u001b[0m \u001b[38;5;28mprint\u001b[39m(shapiro(df_dif_depois\u001b[38;5;241m.\u001b[39mpercentual))\n",
      "File \u001b[1;32m~\\Anaconda3\\lib\\site-packages\\scipy\\stats\\morestats.py:1749\u001b[0m, in \u001b[0;36mshapiro\u001b[1;34m(x)\u001b[0m\n\u001b[0;32m   1747\u001b[0m N \u001b[38;5;241m=\u001b[39m \u001b[38;5;28mlen\u001b[39m(x)\n\u001b[0;32m   1748\u001b[0m \u001b[38;5;28;01mif\u001b[39;00m N \u001b[38;5;241m<\u001b[39m \u001b[38;5;241m3\u001b[39m:\n\u001b[1;32m-> 1749\u001b[0m     \u001b[38;5;28;01mraise\u001b[39;00m \u001b[38;5;167;01mValueError\u001b[39;00m(\u001b[38;5;124m\"\u001b[39m\u001b[38;5;124mData must be at least length 3.\u001b[39m\u001b[38;5;124m\"\u001b[39m)\n\u001b[0;32m   1751\u001b[0m a \u001b[38;5;241m=\u001b[39m zeros(N, \u001b[38;5;124m'\u001b[39m\u001b[38;5;124mf\u001b[39m\u001b[38;5;124m'\u001b[39m)\n\u001b[0;32m   1752\u001b[0m init \u001b[38;5;241m=\u001b[39m \u001b[38;5;241m0\u001b[39m\n",
      "\u001b[1;31mValueError\u001b[0m: Data must be at least length 3."
     ]
    }
   ],
   "source": [
    "from scipy.stats import shapiro\n",
    "\n",
    "print('Resultados da base completa:')\n",
    "print(shapiro(df_completa_antes.percentual))\n",
    "print(shapiro(df_completa_depois.percentual))\n",
    "\n",
    "print('\\nResultados da base filtrada:')\n",
    "print(shapiro(df_filtrada_antes.percentual))\n",
    "print(shapiro(df_filtrada_depois.percentual))\n",
    "\n",
    "print('\\nResultados da base dif:')\n",
    "print(shapiro(df_dif_antes.percentual))\n",
    "print(shapiro(df_dif_depois.percentual))"
   ]
  },
  {
   "cell_type": "markdown",
   "id": "e4585e89",
   "metadata": {},
   "source": [
    "Vamos verificar também como é o histograma dessas distribuições:"
   ]
  },
  {
   "cell_type": "code",
   "execution_count": 40,
   "id": "30bd02c6",
   "metadata": {},
   "outputs": [
    {
     "data": {
      "image/png": "[encoded data removed]",
      "text/plain": [
       "<Figure size 432x288 with 1 Axes>"
      ]
     },
     "metadata": {
      "needs_background": "light"
     },
     "output_type": "display_data"
    },
    {
     "data": {
      "image/png": "[encoded data removed]",
      "text/plain": [
       "<Figure size 432x288 with 1 Axes>"
      ]
     },
     "metadata": {
      "needs_background": "light"
     },
     "output_type": "display_data"
    },
    {
     "data": {
      "image/png": "[encoded data removed]",
      "text/plain": [
       "<Figure size 432x288 with 1 Axes>"
      ]
     },
     "metadata": {
      "needs_background": "light"
     },
     "output_type": "display_data"
    }
   ],
   "source": [
    "import matplotlib.pyplot as plt\n",
    "import numpy as np\n",
    "\n",
    "def plot_histograma(df_antes, df_depois, titulo):\n",
    "    bins = np.linspace(10, 30, 20)\n",
    "    \n",
    "    plt.hist(df_antes.percentual, bins, alpha=0.5, label='Antes')\n",
    "    plt.hist(df_depois.percentual, bins, alpha=0.5, label='Depois')\n",
    "    plt.title(titulo)\n",
    "    plt.legend(loc='upper right')\n",
    "    plt.show()\n",
    "\n",
    "plot_histograma(df_completa_antes, df_completa_depois, 'Completa')\n",
    "plot_histograma(df_filtrada_antes, df_filtrada_depois, 'Filtrada')\n",
    "plot_histograma(df_dif_antes, df_dif_depois, 'Dif')"
   ]
  },
  {
   "cell_type": "markdown",
   "id": "9813dd96",
   "metadata": {},
   "source": [
    "Agora vamos fazer o teste-t antes e depois das bases completas e filtradas e ver os resultados:"
   ]
  },
  {
   "cell_type": "code",
   "execution_count": 16,
   "id": "6c619bd7",
   "metadata": {},
   "outputs": [
    {
     "name": "stdout",
     "output_type": "stream",
     "text": [
      "Resultados da base completa:\n",
      "Ttest_indResult(statistic=3.185915692387236, pvalue=0.0020179831152096622)\n",
      "\n",
      "Resultados da base filtrada:\n",
      "Ttest_indResult(statistic=-0.9519674274171109, pvalue=0.3448098308612353)\n",
      "\n",
      "Resultados da dif:\n",
      "Ttest_indResult(statistic=4.725073748095455, pvalue=1.3447841537917613e-05)\n"
     ]
    }
   ],
   "source": [
    "from scipy.stats import ttest_ind\n",
    "\n",
    "print('Resultados da base completa:')\n",
    "print(ttest_ind(df_completa_antes.percentual, df_completa_depois.percentual, equal_var=False, alternative='two-sided'))\n",
    "\n",
    "print('\\nResultados da base filtrada:')\n",
    "print(ttest_ind(df_filtrada_antes.percentual, df_filtrada_depois.percentual, equal_var=False, alternative='two-sided'))\n",
    "\n",
    "print('\\nResultados da dif:')\n",
    "print(ttest_ind(df_dif_antes.percentual, df_dif_depois.percentual, equal_var=False, alternative='two-sided'))"
   ]
  },
  {
   "cell_type": "markdown",
   "id": "7de359bc",
   "metadata": {},
   "source": [
    "A interpretação aqui é a seguinte:\n",
    "\n",
    "- Base completa: p-valor < 5%, rejeita H0 e ficamos com H1, o que significa que há evidências suficientes para dizer que as médias são diferentes antes/depois da LGPD.\n",
    "\n",
    "- Base filtrada: p-valor > 5%, dizemos que não há evidências suficientes para rejeitar H0, ou seja, não dá pra dizer que as médias são diferentes.\n",
    "\n",
    "No caso da base completa, como as médias são diferentes, vamos definir como hipótese alternativa a taxa anterior ser MAIOR que a taxa depois da LGPD. A ideia aqui é só verificar o teste, pois o histograma acima já diz isso mesmo:"
   ]
  },
  {
   "cell_type": "code",
   "execution_count": 17,
   "id": "952f70a1",
   "metadata": {},
   "outputs": [
    {
     "name": "stdout",
     "output_type": "stream",
     "text": [
      "Ttest_indResult(statistic=3.185915692387236, pvalue=0.0010089915576048311)\n"
     ]
    }
   ],
   "source": [
    "print(ttest_ind(df_completa_antes.percentual, df_completa_depois.percentual, equal_var=False, alternative='greater'))"
   ]
  },
  {
   "cell_type": "markdown",
   "id": "2793eb15",
   "metadata": {},
   "source": [
    "Ou seja, olhando a base completa desde 2012 concluímos que a média mensal de rejeição antes da LAI (de 2012 a 2020) foi menor do que o do período posterior a LAI (9/2020, 2021, 2022)."
   ]
  }
 ],
 "metadata": {
  "kernelspec": {
   "display_name": "Python 3 (ipykernel)",
   "language": "python",
   "name": "python3"
  },
  "language_info": {
   "codemirror_mode": {
    "name": "ipython",
    "version": 3
   },
   "file_extension": ".py",
   "mimetype": "text/x-python",
   "name": "python",
   "nbconvert_exporter": "python",
   "pygments_lexer": "ipython3",
   "version": "3.8.5"
  }
 },
 "nbformat": 4,
 "nbformat_minor": 5
}
